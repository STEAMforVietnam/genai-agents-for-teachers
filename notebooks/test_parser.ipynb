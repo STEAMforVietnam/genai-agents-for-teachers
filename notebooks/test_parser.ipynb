{
 "cells": [
  {
   "cell_type": "markdown",
   "metadata": {},
   "source": [
    "# PDF Ingestion Pipeline\n",
    "\n",
    "## 1. Instruction for running on local machine\n",
    "1. Create a virtual environment (Recommended)\n",
    "2. Make sure you have install all dependencies listed in requirements.txt\n",
    "3. In addition, for reading PDFs and OCR, we'll need Poppler, Tesseract, and Tesseract-lang. If using Homebrew, you can run the following commands\n",
    "\n",
    "```bash\n",
    "brew install poppler\n",
    "brew install tesseract-lang\n",
    "```\n",
    "\n",
    "4. Make sure you have your PDF files placed in folder `data`\n",
    "\n",
    "## 2. Instruction for Google Colab\n",
    "TODO"
   ]
  },
  {
   "cell_type": "code",
   "execution_count": null,
   "metadata": {},
   "outputs": [],
   "source": [
    "import os\n",
    "import pprint\n",
    "from dotenv import load_dotenv\n",
    "from unstructured.partition.pdf import partition_pdf\n",
    "from unstructured.chunking.title import chunk_by_title\n",
    "from langchain_core.documents import Document\n",
    "from langchain_milvus.vectorstores import Milvus\n",
    "load_dotenv()"
   ]
  },
  {
   "cell_type": "markdown",
   "metadata": {},
   "source": [
    "## STEP 1: READ PDF, CHUNK, AND CONVERT TO VECTOR"
   ]
  },
  {
   "cell_type": "code",
   "execution_count": null,
   "metadata": {},
   "outputs": [],
   "source": [
    "# GLOBALS\n",
    "file_path = \"../data/test.pdf\""
   ]
  },
  {
   "cell_type": "code",
   "execution_count": null,
   "metadata": {},
   "outputs": [],
   "source": [
    "elements = partition_pdf(\n",
    "    filename=file_path,\n",
    "    mode=\"elements\",\n",
    "    strategy=\"hi_res\",\n",
    "    languages=[\"vie\", \"equ\"]\n",
    ")\n",
    "elements = chunk_by_title(\n",
    "    elements\n",
    ")"
   ]
  },
  {
   "cell_type": "code",
   "execution_count": null,
   "metadata": {},
   "outputs": [],
   "source": [
    "print(str(elements[0]))\n",
    "print(elements[0].metadata.to_dict())"
   ]
  },
  {
   "cell_type": "code",
   "execution_count": null,
   "metadata": {},
   "outputs": [],
   "source": [
    "# Wpap in langchain\n",
    "docs = [Document(page_content=str(element), metadata=element.metadata.to_dict()) for element in elements]"
   ]
  },
  {
   "cell_type": "code",
   "execution_count": null,
   "metadata": {},
   "outputs": [],
   "source": [
    "# trim metadata\n",
    "for doc in docs:\n",
    "    metadata = {key: value for key, value in doc.metadata.items()\n",
    "                if key in [\"source\", \"file_directory\", \"filename\",\n",
    "                           \"page_number\", \"category\"]}\n",
    "    doc.metadata = metadata"
   ]
  },
  {
   "cell_type": "code",
   "execution_count": null,
   "metadata": {},
   "outputs": [],
   "source": [
    "len(docs)"
   ]
  },
  {
   "cell_type": "code",
   "execution_count": null,
   "metadata": {},
   "outputs": [],
   "source": [
    "for doc in docs[:2]:\n",
    "    print(\"=========\")\n",
    "    pprint.pprint(doc.page_content)\n"
   ]
  },
  {
   "cell_type": "code",
   "execution_count": null,
   "metadata": {},
   "outputs": [],
   "source": [
    "from langchain_community.embeddings import HuggingFaceEmbeddings\n",
    "\n",
    "embedding_model = HuggingFaceEmbeddings(model_name='keepitreal/vietnamese-sbert')"
   ]
  },
  {
   "cell_type": "code",
   "execution_count": null,
   "metadata": {},
   "outputs": [],
   "source": [
    "len(embedding_model.embed_query(docs[0].page_content))"
   ]
  },
  {
   "cell_type": "code",
   "execution_count": null,
   "metadata": {},
   "outputs": [],
   "source": [
    "docs[0].metadata"
   ]
  },
  {
   "cell_type": "markdown",
   "metadata": {},
   "source": [
    "## STEP 2 :UPSERT TO DATABASE\n",
    "Using defaults"
   ]
  },
  {
   "cell_type": "code",
   "execution_count": null,
   "metadata": {},
   "outputs": [],
   "source": [
    "URI = os.environ.get(\"PUBLIC_ENDPOINT\")\n",
    "vector_db = Milvus.from_documents(\n",
    "    documents=docs,\n",
    "    embedding=embedding_model,\n",
    "    collection_name=\"s4v_python_oh\",\n",
    "    connection_args={\"uri\": URI,\n",
    "                     \"token\": os.environ.get(\"API_KEY\"),\n",
    "                     \"secure\": True\n",
    "    },\n",
    "    drop_old=True\n",
    ")"
   ]
  },
  {
   "cell_type": "markdown",
   "metadata": {},
   "source": [
    "## STEP 3: SIMILARITY SEARCH"
   ]
  },
  {
   "cell_type": "code",
   "execution_count": null,
   "metadata": {},
   "outputs": [],
   "source": [
    "test_query = \"Câu 1 là gì thế?\"\n",
    "retrieved_docs = vector_db.similarity_search(test_query, k=2)"
   ]
  },
  {
   "cell_type": "code",
   "execution_count": null,
   "metadata": {},
   "outputs": [],
   "source": [
    "retrieved_docs"
   ]
  },
  {
   "cell_type": "code",
   "execution_count": null,
   "metadata": {},
   "outputs": [],
   "source": [
    "retrieved_docs[0].page_content"
   ]
  },
  {
   "cell_type": "markdown",
   "metadata": {},
   "source": [
    "## OPTIONAL: MANAGING COLLECTIONS"
   ]
  },
  {
   "cell_type": "code",
   "execution_count": null,
   "metadata": {},
   "outputs": [],
   "source": [
    "from pymilvus import MilvusClient, CollectionSchema, FieldSchema, DataType\n",
    "\n",
    "client = MilvusClient(\n",
    "    uri=os.environ.get(\"PUBLIC_ENDPOINT\"),\n",
    "    token=os.environ.get(\"API_KEY\"),\n",
    ")\n",
    "\n",
    "client.create_collection(\n",
    "    collection_name=\"s4v_python_oh\",\n",
    "    dimension=768,\n",
    "    metric_type=\"COSINE\",\n",
    "    index_type=\"HNSW\",\n",
    "    index_name=\"vector_index\",\n",
    "    enable_dynamic_field=True\n",
    ")\n",
    "\n",
    "res = client.describe_collection(\n",
    "    collection_name=\"s4v_python_oh\"\n",
    ")\n",
    "\n",
    "pprint.pprint(res)\n",
    "\n",
    "# Create index\n",
    "index_params = MilvusClient.prepare_index_params()\n",
    "\n",
    "index_params.add_index(\n",
    "    field_name=\"vector\",\n",
    "    metric_type=\"COSINE\",\n",
    "    index_type=\"HNSW\",\n",
    "    index_name=\"vector_index\",\n",
    ")\n",
    "\n",
    "client.create_index(\n",
    "    collection_name=\"s4v_python_oh\",\n",
    "    index_params=index_params\n",
    ")\n",
    "\n",
    "client.close()"
   ]
  }
 ],
 "metadata": {
  "kernelspec": {
   "display_name": ".venv",
   "language": "python",
   "name": "python3"
  },
  "language_info": {
   "codemirror_mode": {
    "name": "ipython",
    "version": 3
   },
   "file_extension": ".py",
   "mimetype": "text/x-python",
   "name": "python",
   "nbconvert_exporter": "python",
   "pygments_lexer": "ipython3",
   "version": "3.11.9"
  }
 },
 "nbformat": 4,
 "nbformat_minor": 2
}
