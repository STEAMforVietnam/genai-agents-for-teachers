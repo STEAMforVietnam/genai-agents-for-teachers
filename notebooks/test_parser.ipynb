{
 "cells": [
  {
   "cell_type": "markdown",
   "metadata": {},
   "source": [
    "# PDF Ingestion Pipeline\n",
    "\n",
    "## 1. Instruction for running on local machine\n",
    "1. Create a virtual environment (Recommended)\n",
    "2. Make sure you have install all dependencies listed in requirements.txt\n",
    "3. In addition, for reading PDFs and OCR, we'll need Poppler, Tesseract, and Tesseract-lang. If using Homebrew, you can run the following commands\n",
    "\n",
    "```bash\n",
    "brew install poppler\n",
    "brew install tesseract-lang\n",
    "```\n",
    "\n",
    "4. Make sure you have your PDF files placed in folder `data`\n",
    "\n",
    "## 2. Instruction for Google Colab\n",
    "TODO"
   ]
  },
  {
   "cell_type": "code",
   "execution_count": null,
   "metadata": {},
   "outputs": [],
   "source": [
    "import os\n",
    "import pprint\n",
    "from dotenv import load_dotenv\n",
    "from unstructured.partition.pdf import partition_pdf\n",
    "from unstructured.chunking.title import chunk_by_title\n",
    "from langchain_core.documents import Document\n",
    "from langchain_milvus.vectorstores import Milvus\n",
    "from langchain_community.embeddings import HuggingFaceEmbeddings\n",
    "load_dotenv()"
   ]
  },
  {
   "cell_type": "markdown",
   "metadata": {
    "jp-MarkdownHeadingCollapsed": true
   },
   "source": [
    "## BƯỚC 1: CHUYỂN FILE PDF THÀNH DẠNG DỮ LIỆU SỐ HOÁ"
   ]
  },
  {
   "cell_type": "code",
   "execution_count": null,
   "metadata": {},
   "outputs": [],
   "source": [
    "# GLOBALS\n",
    "# file_path = \"../data/tai_lieu_vat_ly_9.pdf\"\n",
    "file_path = \"../data/mục_lục.pdf\"\n",
    "embedding_model_name = \"bkai-foundation-models/vietnamese-bi-encoder\"\n",
    "collection_name=\"s4v_python_oh_bkai\""
   ]
  },
  {
   "cell_type": "code",
   "execution_count": null,
   "metadata": {},
   "outputs": [],
   "source": [
    "elements = partition_pdf(\n",
    "    filename=file_path,\n",
    "    mode=\"elements\",\n",
    "    strategy=\"hi_res\",\n",
    "    # infer_table_structure=True,\n",
    "    languages=[\"vie\", \"equ\"]\n",
    ")\n",
    "elements_chunked = chunk_by_title(\n",
    "    elements,\n",
    "    max_characters=3000,\n",
    "    overlap=200,\n",
    "    multipage_sections=True\n",
    ")"
   ]
  },
  {
   "cell_type": "code",
   "execution_count": null,
   "metadata": {},
   "outputs": [],
   "source": [
    "# Wpap in langchain\n",
    "docs = [Document(page_content=f\"File title {element.metadata.filename.split('.')[0]}: {str(element)}\", metadata=element.metadata.to_dict())\n",
    "        for element in elements_chunked]"
   ]
  },
  {
   "cell_type": "code",
   "execution_count": null,
   "metadata": {},
   "outputs": [],
   "source": [
    "# trim metadata\n",
    "for doc in docs:\n",
    "    metadata = {key: value for key, value in doc.metadata.items()\n",
    "                if key in [\"source\", \"file_directory\", \"filename\",\n",
    "                           \"page_number\", \"category\"]}\n",
    "    doc.metadata = metadata"
   ]
  },
  {
   "cell_type": "code",
   "execution_count": null,
   "metadata": {},
   "outputs": [],
   "source": [
    "# embedding_model = HuggingFaceEmbeddings(model_name='keepitreal/vietnamese-sbert')\n",
    "embedding_model = HuggingFaceEmbeddings(model_name=embedding_model_name)"
   ]
  },
  {
   "cell_type": "code",
   "execution_count": null,
   "metadata": {},
   "outputs": [],
   "source": [
    "pprint.pprint(docs[1].page_content)\n",
    "pprint.pprint(docs[1].metadata[\"page_number\"])"
   ]
  },
  {
   "cell_type": "markdown",
   "metadata": {
    "jp-MarkdownHeadingCollapsed": true
   },
   "source": [
    "## BƯỚC 2: UPLOAD LÊN KHO LƯU TRỮ (DATABASE)\n",
    "Using defaults"
   ]
  },
  {
   "cell_type": "code",
   "execution_count": null,
   "metadata": {},
   "outputs": [],
   "source": [
    "URI = os.environ.get(\"DATABSE_PUBLIC_ENDPOINT\")\n",
    "vector_db = Milvus.from_documents(\n",
    "    documents=docs,\n",
    "    embedding=embedding_model,\n",
    "    collection_name=collection_name,\n",
    "    connection_args={\"uri\": URI,\n",
    "                     \"token\": os.environ.get(\"DATABASE_API_KEY\"),\n",
    "                     \"secure\": True\n",
    "    },\n",
    "    # drop_old=True\n",
    ")"
   ]
  },
  {
   "cell_type": "markdown",
   "metadata": {},
   "source": [
    "## BƯỚC 3: TÌM DỮ ĐOẠN VĂN GẦN NHẤT VỚI CÂU HỎI"
   ]
  },
  {
   "cell_type": "code",
   "execution_count": null,
   "metadata": {},
   "outputs": [],
   "source": [
    "embedding_model = HuggingFaceEmbeddings(model_name=embedding_model_name)\n",
    "vector_db = Milvus(\n",
    "    embedding_function=embedding_model,\n",
    "    collection_name=collection_name,\n",
    "    connection_args={\"uri\": os.environ.get(\"DATABSE_PUBLIC_ENDPOINT\"),\n",
    "                    \"token\": os.environ.get(\"DATABASE_API_KEY\"),\n",
    "                    \"secure\": True\n",
    "    }\n",
    ")"
   ]
  },
  {
   "cell_type": "code",
   "execution_count": null,
   "metadata": {},
   "outputs": [],
   "source": [
    "cau_hoi = \"Chuyển động tròn đều\"\n",
    "cac_doan_van = vector_db.similarity_search_with_score(cau_hoi, k=5)"
   ]
  },
  {
   "cell_type": "code",
   "execution_count": null,
   "metadata": {},
   "outputs": [],
   "source": [
    "for page, score in cac_doan_van:\n",
    "    print(\"Trang\", page.metadata[\"page_number\"])\n",
    "    print(page.page_content)\n",
    "    print(\"====================\")"
   ]
  },
  {
   "cell_type": "markdown",
   "metadata": {},
   "source": [
    "## OPTIONAL: MANAGING COLLECTIONS"
   ]
  },
  {
   "cell_type": "code",
   "execution_count": null,
   "metadata": {},
   "outputs": [],
   "source": [
    "from pymilvus import MilvusClient, CollectionSchema, FieldSchema, DataType\n",
    "\n",
    "client = MilvusClient(\n",
    "    uri=os.environ.get(\"PUBLIC_ENDPOINT\"),\n",
    "    token=os.environ.get(\"API_KEY\"),\n",
    ")\n",
    "\n",
    "client.create_collection(\n",
    "    collection_name=\"s4v_python_oh\",\n",
    "    dimension=768,\n",
    "    metric_type=\"COSINE\",\n",
    "    index_type=\"HNSW\",\n",
    "    index_name=\"vector_index\",\n",
    "    enable_dynamic_field=True\n",
    ")\n",
    "\n",
    "res = client.describe_collection(\n",
    "    collection_name=\"s4v_python_oh\"\n",
    ")\n",
    "\n",
    "pprint.pprint(res)\n",
    "\n",
    "# Create index\n",
    "index_params = MilvusClient.prepare_index_params()\n",
    "\n",
    "index_params.add_index(\n",
    "    field_name=\"vector\",\n",
    "    metric_type=\"COSINE\",\n",
    "    index_type=\"HNSW\",\n",
    "    index_name=\"vector_index\",\n",
    ")\n",
    "\n",
    "client.create_index(\n",
    "    collection_name=\"s4v_python_oh\",\n",
    "    index_params=index_params\n",
    ")\n",
    "\n",
    "client.close()"
   ]
  }
 ],
 "metadata": {
  "kernelspec": {
   "display_name": "Python 3 (ipykernel)",
   "language": "python",
   "name": "python3"
  },
  "language_info": {
   "codemirror_mode": {
    "name": "ipython",
    "version": 3
   },
   "file_extension": ".py",
   "mimetype": "text/x-python",
   "name": "python",
   "nbconvert_exporter": "python",
   "pygments_lexer": "ipython3",
   "version": "3.11.9"
  }
 },
 "nbformat": 4,
 "nbformat_minor": 4
}
