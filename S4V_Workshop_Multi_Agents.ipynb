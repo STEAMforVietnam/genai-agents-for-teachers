{
  "cells": [
    {
      "cell_type": "code",
      "execution_count": null,
      "metadata": {
        "id": "1NcsdKJnRIC-"
      },
      "outputs": [],
      "source": [
        "%%capture\n",
        "# Required installations\n",
        "!pip uninstall grpcio grpcio-tools -y\n",
        "!pip install grpcio==1.63.0\n",
        "!pip install crewai==0.41.1\n",
        "!pip install 'crewai[tools]'\n",
        "!pip install langchain-google-genai==1.0.4\n",
        "!pip install langchain-anthropic==0.1.20\n",
        "!pip install langchain_milvus==0.1.3\n",
        "!pip install langchain-openai==0.1.19\n",
        "!pip install langchain-community==0.2.10\n",
        "!pip install sentence-transformers==3.0.1\n",
        "!pip install protobuf==5.27.2\n",
        "!npm install -g degit\n"
      ]
    },
    {
      "cell_type": "code",
      "execution_count": null,
      "metadata": {
        "id": "1R3KQlyjRuDq"
      },
      "outputs": [],
      "source": [
        "from crewai import Agent, Task, Crew\n",
        "from google.colab import userdata\n",
        "import os"
      ]
    },
    {
      "cell_type": "code",
      "execution_count": null,
      "metadata": {
        "id": "eXVSzhiEm3OX"
      },
      "outputs": [],
      "source": [
        "from langchain_openai import ChatOpenAI\n",
        "\n",
        "os.environ['OPENAI_API_KEY'] = userdata.get('OPENAI_API_KEY')\n",
        "model_name = \"gpt-4o-mini\"\n",
        "\n",
        "open_ai_llm = ChatOpenAI(\n",
        "    model = model_name,\n",
        "    temperature = 0.5)"
      ]
    },
    {
      "cell_type": "code",
      "execution_count": null,
      "metadata": {
        "id": "qL21VDaantf6"
      },
      "outputs": [],
      "source": [
        "!npx degit STEAMforVietnam/genai-agents-for-teachers/tools tools --force"
      ]
    },
    {
      "cell_type": "code",
      "execution_count": null,
      "metadata": {
        "id": "zbprms5mnw8P"
      },
      "outputs": [],
      "source": [
        "os.environ[\"DATABSE_PUBLIC_ENDPOINT\"] = userdata.get(\"DATABSE_PUBLIC_ENDPOINT\")\n",
        "os.environ[\"DATABASE_API_KEY\"] = userdata.get(\"DATABASE_API_KEY\")"
      ]
    },
    {
      "cell_type": "code",
      "execution_count": null,
      "metadata": {
        "id": "YUzSIC2qnyyS"
      },
      "outputs": [],
      "source": [
        "from tools.exam import ExamTool"
      ]
    },
    {
      "cell_type": "markdown",
      "metadata": {
        "id": "lax0-DfYwDR9"
      },
      "source": [
        "## Nhân viên thứ nhất"
      ]
    },
    {
      "cell_type": "code",
      "execution_count": null,
      "metadata": {
        "id": "FMa8GEsdRyr2"
      },
      "outputs": [],
      "source": [
        "class_planner = Agent(\n",
        "    role=\"Giáo viên Lập Kế Hoạch Nội Dung Giảng dạy\",\n",
        "    goal=\"Lập kế hoạch các chủ đề hàng tuần hấp dẫn và giáo dục\",\n",
        "    backstory=\"Bạn chịu trách nhiệm lập kế hoạch các chủ đề hàng tuần.  \"\n",
        "              \"Bạn cần đảm bảo nội dung mang tính giáo dục, hấp dẫn và phù hợp với tiêu chuẩn chương trình học. \"\n",
        "              \"Kế hoạch của bạn sẽ giúp giáo viên cung cấp các bài học toàn diện và thú vị bao gồm \"\n",
        "              \"nhiều chủ đề khác nhau của {topic}. Mỗi tuần nên xây dựng dựa trên tuần trước, củng cố và mở rộng kiến thức về {topic} của học sinh, giúp học sinh được rèn năng lực vận dụng {topic}\"\n",
        "              \"Kĩ thuật dạy học: Kĩ thuật chia nhóm, kĩ thuật đặt câu hỏi, hỏi đáp, động não\",\n",
        "    llm=open_ai_llm,\n",
        "    allow_delegation=False,\n",
        "    verbose=True,\n",
        "    tools=[ExamTool.get_appendix],\n",
        "    max_iter=20\n",
        ")\n",
        "planning_task = Task(\n",
        "    description=(\n",
        "        \"Nếu {topic} có dấu thanh tiếng việt, hãy loại bỏ dấu thanh tiếng việt\"\n",
        "        \"1. Tìm trong Milvus các thông tin liên quan đến Appendix (mục lục) bằng cách pass input query='chương và bài học trích từ file mục_lục.pdf cho môn học' và subject = {topic}.\"\n",
        "        \"Dựa vào các thông tin đã tìm được trong Milvus, giới hạn các chủ đề phù hợp trong vòng {range} và phù hợp với các học sinh {students}.\"\n",
        "        \"bao gồm các khái niệm cơ bản, định lý, và có thể bao gồm ứng dụng thực tế của chủ đề.\"\n",
        "        \"Yêu cầu bắt buộc: các chủ đề được chọn phải bao gồm {sub_topics}\"\n",
        "        \"Lấy đúng nội dung. Không lấy linh tinh. Chỉ tìm trong phạm vi liên quan, không tìm lan man.\"\n",
        "        \"Xác định các khái niệm và kỹ năng cần kiểm tra cho từng chủ đề.\"\n",
        "        \"Lưu ý: Khi gặp cảnh báo này 'I tried reusing the same input, I must stop using this action input. I'll try something else instead.', lập tức dừng query, chuyển sang bước 2.\\n\"\n",
        "        \"2. Xác định đối tượng học sinh, xem xét \"\n",
        "        \"sở thích và những khó khăn của họ trong việc học môn {topic}.\\n\"\n",
        "        \"3. Phát triển một dàn ý chi tiết cho mỗi tuần bao gồm \"\n",
        "        \"phần giới thiệu, kỹ thuật dạy học, các điểm chính, hoạt động học tập và câu hỏi thảo luận.\\n\"\n",
        "        \"4. Bao gồm các từ khóa quan trọng và các nguồn tài liệu tham khảo liên quan.\\n\"\n",
        "        \"5. Tất cả các output bằng tiếng Việt.\"\n",
        "        \"Đưa tất cả kế hoạch giảng dạy đã tạo ra của {topic} trong vòng {range} vào file markdown.\"\n",
        "        \"Kết quả cần có đầy đủ các tuần, không bỏ đi bất cứ nội dung nào.\"\n",
        "        \"Bỏ câu 'Final Answer: '.\"\n",
        "        \"Output không nằm trong ```markdown  ```.\\n\"\n",
        "        \"6. Chuyển kế hoạch tạo ra cho Giáo viên Thiết Kế Bài Học và Giáo viên tạo Bài Kiểm Tra và Bài Tập.\"\n",
        "    ),\n",
        "    expected_output=\"Một tài liệu kế hoạch nội dung toàn diện \"\n",
        "        \"với dàn ý hàng tuần theo tiết học cụ thể, phân tích đối tượng học sinh, \"\n",
        "        \"từ khóa quan trọng và các nguồn tài liệu tham khảo.\"\n",
        "        \"Hiển thị output chính xác. Ví dụ **Chủ đề** sẽ được hiển thị là chữ Chủ đề được bôi đậm.\",\n",
        "    output_file=\"planning.md\",\n",
        "    agent=class_planner,\n",
        ")\n"
      ]
    },
    {
      "cell_type": "markdown",
      "metadata": {
        "id": "SnwzhbN8wJmE"
      },
      "source": [
        "## Nhân viên thứ hai"
      ]
    },
    {
      "cell_type": "code",
      "execution_count": null,
      "metadata": {
        "id": "a_YyERdtR6YS"
      },
      "outputs": [],
      "source": [
        "lesson_designer = Agent(\n",
        "    role=\"Giáo viên Thiết Kế Bài Học\",\n",
        "    goal=\"Thiết kế các bài học chi tiết và chính xác về mặt thông tin cho môn {topic} lớp 10, mỗi tiết học dài 45 phút\",\n",
        "    backstory=\"Bạn đang làm việc để thiết kế các bài học mới cho môn {topic} 10. \"\n",
        "              \"Bạn dựa vào công việc của Giáo viên Lập Kế Hoạch Nội Dung Giảng dạy, người cung cấp dàn ý \"\n",
        "              \"và ngữ cảnh liên quan đến chủ đề. \"\n",
        "              \"Bạn tuân theo các mục tiêu chính và \"\n",
        "              \"hướng dẫn của dàn ý, \"\n",
        "              \"do Giáo viên Lập Kế Hoạch Nội Dung Giảng dạy cung cấp. \"\n",
        "              \"Bạn cũng cung cấp các thông tin khách quan và không thiên vị \"\n",
        "              \"và củng cố chúng bằng các thông tin \"\n",
        "              \"được cung cấp bởi Giáo viên Lập Kế Hoạch Nội Dung Giảng dạy. \"\n",
        "              \"Bạn đảm bảo bài học của mình có tính tương tác, hấp dẫn và phù hợp với tiêu chuẩn chương trình học.\",\n",
        "    allow_delegation=False,\n",
        "    llm=open_ai_llm,\n",
        "    verbose=True,\n",
        "    tools=[ExamTool.get_chapter],\n",
        "    max_iter=20\n",
        ")\n",
        "\n",
        "lesson_plan_task = Task(\n",
        "    description=(\n",
        "        \"1. Lấy thông tin kế hoạch giảng dạy của {sub_topics} nhận được từ Giáo viên Lập Kế Hoạch Nội Dung Giảng dạy.\\n\"\n",
        "        \"2. Sử dụng ExamTool tìm dữ liệu từ {sub_topics} của {topic}.\"\n",
        "        \"Nếu {topic} có dấu thanh tiếng việt, hãy loại bỏ dấu thanh tiếng việt.\"\n",
        "        \"Giữ nguyên dấu tiếng việt cho {sub_topics}. Ví dụ {sub_topics} = 'Định luật 1 Newton' thì giữ nguyên là 'Định luật 1 Newton', {sub_topics} = 'Chuyển động đều' thì vẫn giữ nguyên là 'Chuyển động đều'.\"\n",
        "        \"Dưới đây là ví dụ cách bạn sẽ pass input data vào tool: query='thông tin cho bài {sub_topics}' subject={topic}.\"\n",
        "        \"Lấy đúng nội dung trong {sub_topics}. Không lấy linh tinh. Chỉ tìm trong phạm vi liên quan, không tìm lan man.\"\n",
        "        \"Xác định các khái niệm và kỹ năng cần kiểm tra cho từng chủ đề {sub_topics}.\"\n",
        "        \"Khi đã hoàn thành query cho {sub_topics}, không cần query lại lần nữa.\"\n",
        "        \"Lưu ý: Khi gặp cảnh báo này 'I tried reusing the same input, I must stop using this action input. I'll try something else instead.', lập tức dừng query, chuyển sang bước 3.\"\n",
        "        \"Không lặp lại query {sub_topics} lần hai. Khi thấy query bị trùng lặp, lập tức dừng query.\\n\"\n",
        "        \"3. Chuyển thông tin về {sub_topics} đã query được cho Giáo viên tạo Bài Kiểm Tra và Bài Tập.\\n\"\n",
        "        \"4. Xác định mục tiêu học tập cho các tiết học 45 phút về các chủ đề {sub_topics} của {topic}.\"\n",
        "        \"Mỗi chủ đề trong {sub_topics} sẽ tương ứng với một tiết học 45 phút. Các chủ đề được ngăn cách với nhau bởi dấu phẩy.\"\n",
        "        \"Ví dụ: Nếu {sub_topics} có hai chủ đề, hãy tạo cho tôi kế hoạch giảng dạy cho hai tiết học. Mỗi tiết học 45 phút.\"\n",
        "        \"5. Từ kế hoạch của Giáo viên Lập Kế Hoạch Nội Dung Giảng dạy, hãy lập dàn ý chi tiết cho các tiết học về {sub_topics}, bao gồm phần giới thiệu, các điểm chính, hoạt động học tập, và kết luận.\\n\"\n",
        "        \"6. Phát triển các hoạt động học tập tương tác và hấp dẫn để giúp {students} hiểu sâu hơn về chủ đề.\\n\"\n",
        "        \"7. Bao gồm các câu hỏi thảo luận và bài tập để kiểm tra sự hiểu biết của {students}.\\n\"\n",
        "        \"8. Đảm bảo nội dung phù hợp với tiêu chuẩn chương trình học và phù hợp với trình độ của {students}.\\n\"\n",
        "        \"9. Cung cấp các nguồn tài liệu tham khảo liên quan để hỗ trợ bài học.\\n\"\n",
        "        \"10. Tất cả các output bằng tiếng Việt.\"\n",
        "        \"Kết quả cần có đầy đủ kế hoạch bài học chi tiết, không bỏ đi bất cứ nội dung nào.\"\n",
        "        \"Bỏ câu 'Final Answer: '.\"\n",
        "        \"Output không nằm trong ```markdown  ```.\"\n",
        "        \"Đưa tất cả kế hoạch bài học chi tiết đã tạo vào file markdown.\\n\"\n",
        "        \"11. Chuyển kế hoạch bài học chi tiết của {sub_topics} đã chọn cho Giáo viên tạo Bài Kiểm Tra và Bài Tập.\"\n",
        "    ),\n",
        "    expected_output=\"Một kế hoạch bài học chi tiết cho các tiết học 45 phút về chủ đề {sub_topics} của {topic}, \"\n",
        "        \"bao gồm mục tiêu học tập, dàn ý chi tiết, hoạt động học tập, câu hỏi thảo luận, bài tập, và các nguồn tài liệu tham khảo.\"\n",
        "        \"Hiển thị output chính xác. Ví dụ **Chủ đề** sẽ được hiển thị là chữ Chủ đề được bôi đậm.\",\n",
        "    output_file=\"baigiang.md\",\n",
        "    agent=lesson_designer,\n",
        "    context=[planning_task]\n",
        ")\n"
      ]
    },
    {
      "cell_type": "markdown",
      "metadata": {
        "id": "WKt6MoxO38S8"
      },
      "source": [
        "## Nhân Viên Thứ 3"
      ]
    },
    {
      "cell_type": "code",
      "execution_count": null,
      "metadata": {
        "id": "A26rPcgcjv9J"
      },
      "outputs": [],
      "source": [
        "!npx degit STEAMforVietnam/genai-agents-for-teachers/tools tools --force"
      ]
    },
    {
      "cell_type": "code",
      "execution_count": null,
      "metadata": {
        "id": "_PUJSIdJdnvh"
      },
      "outputs": [],
      "source": [
        "os.environ[\"DATABSE_PUBLIC_ENDPOINT\"] = userdata.get(\"DATABSE_PUBLIC_ENDPOINT\")\n",
        "os.environ[\"DATABASE_API_KEY\"] = userdata.get(\"DATABASE_API_KEY\")\n",
        "os.environ[\"OPENAI_API_KEY\"] = userdata.get(\"OPENAI_API_KEY\")"
      ]
    },
    {
      "cell_type": "code",
      "execution_count": null,
      "metadata": {
        "id": "1QWScw0qkJtY"
      },
      "outputs": [],
      "source": [
        "from tools.exam import ExamTool"
      ]
    },
    {
      "cell_type": "code",
      "execution_count": null,
      "metadata": {
        "id": "mgbXBnl5SIXB"
      },
      "outputs": [],
      "source": [
        "test_creator = Agent(\n",
        "    role=\"Giáo viên tạo Bài Kiểm Tra và Bài Tập\",\n",
        "    goal=\"Tạo các bài kiểm tra và bài tập chính xác và phù hợp cho từng chủ đề của môn {topic} 10 \",\n",
        "    backstory=\"Bạn chịu trách nhiệm tạo các bài kiểm tra và bài tập cho môn {topic} 10. \"\n",
        "              \"Bạn dựa vào công việc của Giáo viên Lập Kế Hoạch Nội Dung và Giáo viên Thiết Kế Bài Học, \"\n",
        "              \"những người cung cấp dàn ý và ngữ cảnh liên quan đến chủ đề. \"\n",
        "              \"Bạn tạo các bài kiểm tra và bài tập nhằm đánh giá sự hiểu biết của học sinh \"\n",
        "              \"và củng cố kiến thức đã học. \"\n",
        "              \"Bạn đảm bảo các bài kiểm tra và bài tập phù hợp với tiêu chuẩn chương trình học \"\n",
        "              \"và trình độ của {students}.\",\n",
        "    allow_delegation=False,\n",
        "    llm=open_ai_llm,\n",
        "    verbose=True,\n",
        "    max_iter=20,\n",
        "    #tools=[ExamTool.get_chapter]\n",
        ")\n",
        "\n",
        "\n",
        "test_assignment_task = Task(\n",
        "    description=(\n",
        "        \"1. Ghi nhớ thông tin kế hoạch giảng dạy và nội dung giảng dạy của {sub_topics} mà Giáo viên Lập Kế Hoạch Nội Dung Giảng dạy và Giáo viên Thiết Kế Bài Học đã tạo.\"\n",
        "        \"Ghi nhớ thông tin của {sub_topics} mà Giáo viên Thiết Kế Bài Học đã query được.\\n\"\n",
        "        \"2. Tạo 15 câu hỏi trắc nghiệm để đánh giá sự hiểu biết của học sinh về từng chủ đề trong {sub_topics}.\\n\"\n",
        "        \"3. Bao gồm các câu hỏi ở nhiều mức độ khó khác nhau để phù hợp với trình độ của {students}, đi từ dễ đến khó, không được dễ quá.\\n\"\n",
        "        \"4. Đảm bảo các câu hỏi phù hợp với tiêu chuẩn chương trình học.\\n\"\n",
        "        \"5. Cung cấp đáp án cho các câu hỏi.\\n\"\n",
        "        \"6. Cung cấp giải thích cho các câu hỏi. Phần giải thích nằm ngay sau phần câu hỏi tương ứng.\"\n",
        "        \"Không cần bôi đậm câu hỏi. Không cần bôi đậm phần giải thích.\"\n",
        "        \"Phần giải thích sẽ bắt đầu bằng '\\n Hướng dẫn giải \\n' và sau đó là phần giải thích.\\n\"\n",
        "        \"7. Tất cả các output bằng tiếng Việt.\\n\"\n",
        "        \"8. Nội dung output dưới dạng text, không chuyển các công thức toán học thành LaTex hoặc MathJax.\\n\"\n",
        "        \"9. Đối với câu hỏi trắc nghiệm, các đáp án là A, B, C, D.\"\n",
        "        \"Các đáp án A, B, C, D trong một câu hỏi phải hoàn toàn khác nhau. Một câu hỏi chỉ có duy nhất một đáp án đúng.\"\n",
        "        \"Không thụt dòng, không bulleting ở các đáp án.\\n\"\n",
        "        \"10. Đối với các câu hỏi trắc nghiệm, đáp án đúng sẽ có ký tự * ở đầu câu đáp án, ở phần câu hỏi.\"\n",
        "        \"Ví dụ: Câu 5 có đáp án đúng là B thì câu hỏi sẽ được hiển thị như sau: Câu 5: Màng sinh chất có chức năng gì? \\n A. Bảo vệ tế bào. \\n  *B. Chuyển hóa năng lượng. \\n C. Tổng hợp DNA \\n D. Tạo thành ribosome. \\n\"\n",
        "        \"Chỉ có đáp án đúng mới có *. Các đáp án còn lại không có *.\\n\"\n",
        "        \"11. Chuyển tất cả ký tự '*' thành '\\*'.\\n\"\n",
        "        \"12. Đối với các câu hỏi trắc nghiệm, phần câu hỏi, mỗi đáp án ở một hàng và không cùng hàng với câu hỏi.\"\n",
        "        \"Bạn có thể làm được việc đó bằng cách thêm \\n vào đầu mỗi đáp án.\\n\"\n",
        "        \"13. Tất cả các output bằng tiếng Việt. Không in nghiêng hay bôi đậm.\"\n",
        "        \"Output không nằm trong ```markdown  ```.\"\n",
        "        \"Đưa tất cả các output vào file markdown.\\n\"\n",
        "    ),\n",
        "    expected_output=\"Một bộ đề kiểm tra trắc nghiệm cho các chủ đề {sub_topics} của {topic},\"\n",
        "        \"bao gồm câu hỏi trắc nghiệm, đáp án và giải thích.\",\n",
        "    agent=test_creator,\n",
        "    output_file=\"test.md\",\n",
        "    context=[planning_task, lesson_plan_task]\n",
        ")"
      ]
    },
    {
      "cell_type": "code",
      "execution_count": null,
      "metadata": {
        "id": "_ueX9rAVSMMk"
      },
      "outputs": [],
      "source": [
        "crew = Crew(\n",
        "    agents=[class_planner, lesson_designer, test_creator],\n",
        "    #agents=[test_creator],\n",
        "    tasks=[planning_task,lesson_plan_task, test_assignment_task],\n",
        "    #tasks=[test_assignment_task],\n",
        "    verbose=2\n",
        ")\n"
      ]
    },
    {
      "cell_type": "code",
      "execution_count": null,
      "metadata": {
        "id": "_z5ATaZGSbma"
      },
      "outputs": [],
      "source": [
        "result = crew.kickoff(inputs={'topic': 'Vật Lý',\n",
        "                              'sub_topics': 'Động học và Độ Dịch Chuyển',\n",
        "                              'range': '6 tuần',\n",
        "                              'students': '30 em học sinh giỏi, 15 em học sinh khá, và 5 em học sinh trung bình'\n",
        "                              })\n",
        "print(result)"
      ]
    },
    {
      "cell_type": "code",
      "execution_count": null,
      "metadata": {
        "id": "jY38A454YaLt"
      },
      "outputs": [],
      "source": []
    }
  ],
  "metadata": {
    "colab": {
      "provenance": []
    },
    "kernelspec": {
      "display_name": "Python 3",
      "language": "python",
      "name": "python3"
    },
    "language_info": {
      "codemirror_mode": {
        "name": "ipython",
        "version": 3
      },
      "file_extension": ".py",
      "mimetype": "text/x-python",
      "name": "python",
      "nbconvert_exporter": "python",
      "pygments_lexer": "ipython3",
      "version": "3.11.9"
    }
  },
  "nbformat": 4,
  "nbformat_minor": 0
}
